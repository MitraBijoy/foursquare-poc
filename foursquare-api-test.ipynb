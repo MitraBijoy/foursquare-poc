{
 "cells": [
  {
   "cell_type": "markdown",
   "metadata": {},
   "source": [
    "### `import` Packages"
   ]
  },
  {
   "cell_type": "code",
   "execution_count": 1,
   "metadata": {},
   "outputs": [],
   "source": [
    "import os\n",
    "import json\n",
    "import requests\n",
    "\n",
    "from dash import html\n",
    "from dash import dcc\n",
    "\n",
    "from dash.dependencies import (Input, Output)\n",
    "from jupyter_dash import JupyterDash\n",
    "\n",
    "import plotly.graph_objects as go"
   ]
  },
  {
   "cell_type": "markdown",
   "metadata": {},
   "source": [
    "### ORS Token"
   ]
  },
  {
   "cell_type": "code",
   "execution_count": 2,
   "metadata": {},
   "outputs": [],
   "source": [
    "with open(file='ors_token.txt', mode='r') as ors:\n",
    "    ors_api_key = ors.read()"
   ]
  },
  {
   "cell_type": "markdown",
   "metadata": {},
   "source": [
    "### Mapbox API"
   ]
  },
  {
   "cell_type": "code",
   "execution_count": 3,
   "metadata": {},
   "outputs": [],
   "source": [
    "with open(file='mapbox_token.txt', mode='r') as mbox:\n",
    "    map_api_key = mbox.read()"
   ]
  },
  {
   "cell_type": "markdown",
   "metadata": {},
   "source": [
    "### Read `foursquare` Venues"
   ]
  },
  {
   "cell_type": "code",
   "execution_count": 4,
   "metadata": {},
   "outputs": [],
   "source": [
    "with open(file='foursquare_venue_categories.json', mode='r') as fcfile:\n",
    "    foursquare_venues = json.load(fp=fcfile)"
   ]
  },
  {
   "cell_type": "code",
   "execution_count": 5,
   "metadata": {},
   "outputs": [
    {
     "data": {
      "text/plain": [
       "dict"
      ]
     },
     "execution_count": 5,
     "metadata": {},
     "output_type": "execute_result"
    }
   ],
   "source": [
    "type(foursquare_venues)"
   ]
  },
  {
   "cell_type": "code",
   "execution_count": 6,
   "metadata": {},
   "outputs": [
    {
     "data": {
      "text/plain": [
       "10"
      ]
     },
     "execution_count": 6,
     "metadata": {},
     "output_type": "execute_result"
    }
   ],
   "source": [
    "len(foursquare_venues['foursquare_venues'])"
   ]
  },
  {
   "cell_type": "markdown",
   "metadata": {},
   "source": [
    "### Read `foursquare` Credentials"
   ]
  },
  {
   "cell_type": "code",
   "execution_count": 7,
   "metadata": {},
   "outputs": [],
   "source": [
    "with open(file='foursquare_credentials.json', mode='r') as creds:\n",
    "    fcreds = json.load(fp=creds)"
   ]
  },
  {
   "cell_type": "code",
   "execution_count": 8,
   "metadata": {},
   "outputs": [
    {
     "data": {
      "text/plain": [
       "dict"
      ]
     },
     "execution_count": 8,
     "metadata": {},
     "output_type": "execute_result"
    }
   ],
   "source": [
    "type(fcreds)"
   ]
  },
  {
   "cell_type": "code",
   "execution_count": 9,
   "metadata": {},
   "outputs": [
    {
     "data": {
      "text/plain": [
       "['URL',\n",
       " 'LAT',\n",
       " 'LON',\n",
       " 'CATEGORY_ID',\n",
       " 'CLIENT_ID',\n",
       " 'CLIENT_SECRET',\n",
       " 'LIMIT',\n",
       " 'VERSION']"
      ]
     },
     "execution_count": 9,
     "metadata": {},
     "output_type": "execute_result"
    }
   ],
   "source": [
    "list(fcreds.keys())"
   ]
  },
  {
   "cell_type": "code",
   "execution_count": 10,
   "metadata": {},
   "outputs": [],
   "source": [
    "# Extract main categories (keys and values)\n",
    "main_category_keys = [list(i['main_category'].keys())[0] for i in foursquare_venues['foursquare_venues']]\n",
    "main_category_values = [list(i['main_category'].values())[0] for i in foursquare_venues['foursquare_venues']]\n",
    "main_category_keys_values = dict(zip(main_category_keys, main_category_values))\n",
    "\n",
    "# Extract sub-categories\n",
    "def extract_subcategories(main_category, main_category_keys, data):\n",
    "    if not (main_category in main_category_keys):\n",
    "        return {}\n",
    "    \n",
    "    data_list = data['foursquare_venues']\n",
    "    for i in data_list:\n",
    "        if (main_category == list(i['main_category'].keys())[0]):\n",
    "            sub_categories = i['sub_categories']\n",
    "            break\n",
    "        else:\n",
    "            continue\n",
    "    \n",
    "    return sub_categories"
   ]
  },
  {
   "cell_type": "code",
   "execution_count": 11,
   "metadata": {},
   "outputs": [],
   "source": [
    "# Extract device location\n",
    "def get_device_loc():\n",
    "    ip_url = 'http://ip-api.com/json'\n",
    "    default_loc_req = requests.get(url=ip_url)\n",
    "    default_loc_data = default_loc_req.json() if default_loc_req.status_code == 200 else {}\n",
    "    default_loc = default_loc_data['city']\n",
    "    return default_loc\n",
    "\n",
    "# Extract the coordinates for any place\n",
    "def geocode(place, api_key=ors_api_key):\n",
    "    ors_url = 'https://api.openrouteservice.org/geocode/search?api_key={}&text={}'\n",
    "    ors_url = ors_url.format(api_key, place)\n",
    "    \n",
    "    headers = {\n",
    "        'Accept' : 'application/json, application/geo+json, application/gpx+xml, img/png; charset=utf-8',\n",
    "    }\n",
    "\n",
    "    req = requests.get(url=ors_url, headers=headers)\n",
    "    # print('Geocode response status - {} : {} {}'.format(place, req.status_code, req.reason))\n",
    "\n",
    "    if (req.status_code == 200):\n",
    "        req_data = req.json()\n",
    "        features = req_data['features']\n",
    "        # format - [longitude, latitude]\n",
    "        coords = features[0]['geometry']['coordinates']\n",
    "        return coords[::-1]\n",
    "\n",
    "    return None"
   ]
  },
  {
   "cell_type": "markdown",
   "metadata": {},
   "source": [
    "### `app` Initialization"
   ]
  },
  {
   "cell_type": "code",
   "execution_count": 12,
   "metadata": {},
   "outputs": [],
   "source": [
    "external_stylesheets = ['https://codepen.io/chriddyp/pen/bWLwgP.css']\n",
    "\n",
    "app = JupyterDash(__name__, external_stylesheets=external_stylesheets)\n",
    "server = app.server"
   ]
  },
  {
   "cell_type": "markdown",
   "metadata": {},
   "source": [
    "### `app` Layout"
   ]
  },
  {
   "cell_type": "code",
   "execution_count": 13,
   "metadata": {},
   "outputs": [],
   "source": [
    "app.layout = html.Div([\n",
    "    html.Meta(charSet='UTF-8'),\n",
    "    html.Meta(name='viewport', content='width=device-width, initial-scale=1.0'),\n",
    "\n",
    "    html.Div([\n",
    "\n",
    "        html.Div([\n",
    "            html.Div([\n",
    "                html.H6('Main Category'),\n",
    "                dcc.Dropdown(\n",
    "                    id='select-main-category', \n",
    "                    options=[{'label' : i, 'value' : i} for i in main_category_keys]\n",
    "                )\n",
    "            ], className='six columns'),\n",
    "\n",
    "            html.Div([\n",
    "                html.H6('Sub Category'),\n",
    "                dcc.Dropdown(id='select-sub-category')\n",
    "            ], className='six columns'),\n",
    "        ], className='row'),\n",
    "    \n",
    "        html.Div([\n",
    "            \n",
    "            html.Div([\n",
    "                html.P('Place Name'),\n",
    "            ], className='six columns', style={'textAlign' : 'right'}),\n",
    "\n",
    "            html.Div([\n",
    "                dcc.Input(id='place-location', type='text', value=get_device_loc(), debounce=True)\n",
    "            ], className='six columns', style={'textAlign' : 'left'})\n",
    "\n",
    "        ], className='row', style={'textAlign' : 'center', 'paddingTop' : 30, 'paddingBottom' : 30}),\n",
    "\n",
    "    ], className='container'),\n",
    "\n",
    "    html.Div(id='map-content')\n",
    "])"
   ]
  },
  {
   "cell_type": "markdown",
   "metadata": {},
   "source": [
    "### `app` Callbacks"
   ]
  },
  {
   "cell_type": "code",
   "execution_count": 14,
   "metadata": {},
   "outputs": [],
   "source": [
    "@app.callback(\n",
    "    Output('select-sub-category', 'options'),\n",
    "    [Input('select-main-category', 'value')]\n",
    ")\n",
    "def get_sub_category_options(value):\n",
    "    sckv = extract_subcategories(\n",
    "        main_category=value, main_category_keys=main_category_keys, data=foursquare_venues\n",
    "    )\n",
    "    option_list = [{'label' : l, 'value' : l} for l in sckv]\n",
    "    return option_list\n",
    "\n",
    "@app.callback(\n",
    "    Output('map-content', 'children'),\n",
    "    [Input('select-main-category', 'value'), Input('select-sub-category', 'value'), Input('place-location', 'value')]\n",
    ")\n",
    "def get_url(main_category, sub_category, place_name):\n",
    "    error_statement = html.P('Please select the dropdown value...', style={'padding' : 100, 'textAlign' : 'center'})\n",
    "    try:\n",
    "        if not sub_category:\n",
    "            return error_statement\n",
    "        if not main_category:\n",
    "            return error_statement\n",
    "\n",
    "        sckv = extract_subcategories(\n",
    "            main_category=main_category, main_category_keys=main_category_keys, data=foursquare_venues\n",
    "        )\n",
    "\n",
    "        category_id = sckv[sub_category]\n",
    "\n",
    "        center_lat, center_lon = geocode(place=place_name)\n",
    "        client_id = fcreds['CLIENT_ID']\n",
    "        client_secret = fcreds['CLIENT_SECRET']\n",
    "        limit = 10\n",
    "        version = fcreds['VERSION']\n",
    "\n",
    "        foursquare_url = fcreds['URL']\n",
    "        foursquare_url = foursquare_url.format(center_lat, center_lon, category_id, client_id, client_secret, limit, version)\n",
    "\n",
    "        venue_result = requests.get(url=foursquare_url).json()['response']['venues']\n",
    "        names = []; categories = []; lats = []; lons=[]; hover_texts = []\n",
    "\n",
    "        for res in range(len(venue_result)):\n",
    "            name = venue_result[res]['name']\n",
    "            category = venue_result[res]['categories'][0]['pluralName']\n",
    "            location = venue_result[res]['location']\n",
    "            latitude = venue_result[res]['location']['lat']\n",
    "            longitude = venue_result[res]['location']['lng']\n",
    "\n",
    "            names.append(name)\n",
    "            categories.append(category)\n",
    "            lats.append(latitude)\n",
    "            lons.append(longitude)\n",
    "            hover_texts.append('{}; {}'.format(name, category))\n",
    "\n",
    "        trace = go.Scattermapbox(\n",
    "            lat=lats,\n",
    "            lon=lons,\n",
    "            mode='markers',\n",
    "            marker=dict(\n",
    "                size=10,\n",
    "                color='red'\n",
    "            ),\n",
    "            text=hover_texts,\n",
    "            hoverinfo='text'\n",
    "        )\n",
    "\n",
    "        layout = go.Layout(\n",
    "            autosize=True,\n",
    "            height=600,\n",
    "            hovermode='closest',\n",
    "            showlegend=False,\n",
    "            mapbox=dict(\n",
    "                accesstoken=map_api_key,\n",
    "                bearing=0,\n",
    "                center=dict(\n",
    "                    lat=center_lat,\n",
    "                    lon=center_lon\n",
    "                ),\n",
    "                pitch=0,\n",
    "                zoom=8,\n",
    "                style='outdoors'\n",
    "            ),\n",
    "            margin=dict(l=40, r=40, t=40, b=40)\n",
    "        )\n",
    "\n",
    "        fig = go.Figure(data=[trace], layout=layout)\n",
    "\n",
    "        return html.Div([\n",
    "            dcc.Graph(\n",
    "                id='map-plot',\n",
    "                figure=fig\n",
    "            )\n",
    "        ])\n",
    "\n",
    "    except Exception as e:\n",
    "        return error_statement"
   ]
  },
  {
   "cell_type": "markdown",
   "metadata": {},
   "source": [
    "### `app` Server"
   ]
  },
  {
   "cell_type": "code",
   "execution_count": 15,
   "metadata": {
    "scrolled": false
   },
   "outputs": [
    {
     "data": {
      "text/html": [
       "\n",
       "        <iframe\n",
       "            width=\"100%\"\n",
       "            height=\"650\"\n",
       "            src=\"http://127.0.0.1:8050/\"\n",
       "            frameborder=\"0\"\n",
       "            allowfullscreen\n",
       "        ></iframe>\n",
       "        "
      ],
      "text/plain": [
       "<IPython.lib.display.IFrame at 0x717dc70>"
      ]
     },
     "metadata": {},
     "output_type": "display_data"
    }
   ],
   "source": [
    "app.run_server(mode='inline')"
   ]
  },
  {
   "cell_type": "markdown",
   "metadata": {},
   "source": [
    "### End"
   ]
  }
 ],
 "metadata": {
  "kernelspec": {
   "display_name": "Python 3",
   "language": "python",
   "name": "python3"
  },
  "language_info": {
   "codemirror_mode": {
    "name": "ipython",
    "version": 3
   },
   "file_extension": ".py",
   "mimetype": "text/x-python",
   "name": "python",
   "nbconvert_exporter": "python",
   "pygments_lexer": "ipython3",
   "version": "3.8.4"
  },
  "varInspector": {
   "cols": {
    "lenName": 16,
    "lenType": 16,
    "lenVar": 40
   },
   "kernels_config": {
    "python": {
     "delete_cmd_postfix": "",
     "delete_cmd_prefix": "del ",
     "library": "var_list.py",
     "varRefreshCmd": "print(var_dic_list())"
    },
    "r": {
     "delete_cmd_postfix": ") ",
     "delete_cmd_prefix": "rm(",
     "library": "var_list.r",
     "varRefreshCmd": "cat(var_dic_list()) "
    }
   },
   "types_to_exclude": [
    "module",
    "function",
    "builtin_function_or_method",
    "instance",
    "_Feature"
   ],
   "window_display": false
  },
  "widgets": {
   "application/vnd.jupyter.widget-state+json": {
    "state": {},
    "version_major": 2,
    "version_minor": 0
   }
  }
 },
 "nbformat": 4,
 "nbformat_minor": 4
}
