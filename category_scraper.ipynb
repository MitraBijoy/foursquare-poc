{
 "cells": [
  {
   "cell_type": "code",
   "execution_count": 1,
   "metadata": {},
   "outputs": [],
   "source": [
    "import requests\n",
    "import json\n",
    "import os\n",
    "import codecs\n",
    "\n",
    "from bs4 import BeautifulSoup"
   ]
  },
  {
   "cell_type": "code",
   "execution_count": 2,
   "metadata": {},
   "outputs": [],
   "source": [
    "class FourSquare:\n",
    "    def __init__(self):\n",
    "        self.url = 'https://developer.foursquare.com/docs/build-with-foursquare/categories/'\n",
    "        self.category_class = 'VenueCategories__Wrapper-sc-1ysxg0y-0 dikXMT'\n",
    "    \n",
    "    def scrape_ids(self, write_to_file=False, file_type=None):\n",
    "        req_data = requests.get(url=self.url)\n",
    "        req_text = str(req_data.content)\n",
    "        \n",
    "        soup_req = BeautifulSoup(markup=req_text, features='lxml')\n",
    "        category_html = soup_req.find('ul', {'class' : self.category_class})\n",
    "        \n",
    "        headings = [i.text.strip() for i in category_html.find_all('h3')]\n",
    "        category_ids = [i.text.strip() for i in category_html.find_all('p')]\n",
    "        fourquare_cats = {i : j for (i, j) in zip(headings, category_ids)}\n",
    "        \n",
    "        if write_to_file:\n",
    "            file_type = 'json'\n",
    "            \n",
    "            if file_type:\n",
    "                with open(file='foursquare_venue_categories.json', mode='wb') as jsfile:\n",
    "                    json.dump(obj=fourquare_cats, fp=codecs.getwriter('utf-8')(jsfile), ensure_ascii=False, indent=2)\n",
    "            \n",
    "            print(\"Successfully written into a file...\")\n",
    "            return None\n",
    "        \n",
    "        return fourquare_cats"
   ]
  },
  {
   "cell_type": "code",
   "execution_count": 3,
   "metadata": {},
   "outputs": [],
   "source": [
    "# fs = FourSquare()"
   ]
  },
  {
   "cell_type": "code",
   "execution_count": 4,
   "metadata": {},
   "outputs": [],
   "source": [
    "# fs.scrape_ids(write_to_file=True)"
   ]
  },
  {
   "cell_type": "markdown",
   "metadata": {},
   "source": [
    "* **Source** → https://bit.ly/2X2T6Sd"
   ]
  },
  {
   "cell_type": "code",
   "execution_count": 5,
   "metadata": {},
   "outputs": [],
   "source": [
    "with open(file='foursquare_categories_gist.txt', mode='r') as fcg:\n",
    "    fcg_data = fcg.read()"
   ]
  },
  {
   "cell_type": "code",
   "execution_count": 6,
   "metadata": {},
   "outputs": [],
   "source": [
    "all_categories = fcg_data.split('\\n')"
   ]
  },
  {
   "cell_type": "code",
   "execution_count": 7,
   "metadata": {},
   "outputs": [],
   "source": [
    "def find_main_categories(data):\n",
    "    main_category_keys = []\n",
    "    main_category_values = []\n",
    "    main_indicies = []\n",
    "    \n",
    "    for i in range(len(data)):\n",
    "        if data[i].startswith('##') and (data[i][2] != '#'):\n",
    "            main_indicies.append(i)\n",
    "            main_category_keys.append(data[i][2:])\n",
    "            main_category_values.append(data[i + 1].split(' ')[1])\n",
    "    \n",
    "    main_category_keys_values = dict(zip(main_category_keys, main_category_values))\n",
    "    return main_category_keys_values, main_indicies"
   ]
  },
  {
   "cell_type": "code",
   "execution_count": 8,
   "metadata": {},
   "outputs": [],
   "source": [
    "mckv, midx = find_main_categories(data=all_categories)"
   ]
  },
  {
   "cell_type": "code",
   "execution_count": 9,
   "metadata": {},
   "outputs": [
    {
     "data": {
      "text/plain": [
       "{'Arts & Entertainment': '4d4b7104d754a06370d81259',\n",
       " 'College & University': '4d4b7105d754a06372d81259',\n",
       " 'Event': '4d4b7105d754a06373d81259',\n",
       " 'Food': '4d4b7105d754a06374d81259',\n",
       " 'Nightlife Spot': '4d4b7105d754a06376d81259',\n",
       " 'Outdoors & Recreation': '4d4b7105d754a06377d81259',\n",
       " 'Professional & Other Places': '4d4b7105d754a06375d81259',\n",
       " 'Residence': '4e67e38e036454776db1fb3a',\n",
       " 'Shop & Service': '4d4b7105d754a06378d81259',\n",
       " 'Travel & Transport': '4d4b7105d754a06379d81259'}"
      ]
     },
     "execution_count": 9,
     "metadata": {},
     "output_type": "execute_result"
    }
   ],
   "source": [
    "mckv"
   ]
  },
  {
   "cell_type": "code",
   "execution_count": 10,
   "metadata": {},
   "outputs": [
    {
     "data": {
      "text/plain": [
       "[0, 106, 184, 202, 580, 624, 778, 932, 944, 1240]"
      ]
     },
     "execution_count": 10,
     "metadata": {},
     "output_type": "execute_result"
    }
   ],
   "source": [
    "midx"
   ]
  },
  {
   "cell_type": "code",
   "execution_count": 11,
   "metadata": {},
   "outputs": [],
   "source": [
    "def find_submain_categories(data):\n",
    "    sckv = {}\n",
    "    sub_indicies = []\n",
    "    \n",
    "    for j in range(len(data)):\n",
    "        if data[j].startswith('###'):\n",
    "            sub_indicies.append(j)\n",
    "            sck = data[j][3:].replace('#', '')\n",
    "            scv = data[j + 1].split(' ')[1]\n",
    "            sckv[sck] = scv\n",
    "    \n",
    "    return sckv, sub_indicies"
   ]
  },
  {
   "cell_type": "code",
   "execution_count": 12,
   "metadata": {},
   "outputs": [],
   "source": [
    "sckv, sub_indicies = find_submain_categories(data=all_categories)"
   ]
  },
  {
   "cell_type": "code",
   "execution_count": 13,
   "metadata": {},
   "outputs": [
    {
     "data": {
      "text/plain": [
       "654"
      ]
     },
     "execution_count": 13,
     "metadata": {},
     "output_type": "execute_result"
    }
   ],
   "source": [
    "len(sckv)"
   ]
  },
  {
   "cell_type": "code",
   "execution_count": 14,
   "metadata": {},
   "outputs": [
    {
     "data": {
      "text/plain": [
       "654"
      ]
     },
     "execution_count": 14,
     "metadata": {},
     "output_type": "execute_result"
    }
   ],
   "source": [
    "len(sub_indicies)"
   ]
  },
  {
   "cell_type": "code",
   "execution_count": 15,
   "metadata": {},
   "outputs": [],
   "source": [
    "def compute_sub_indicies(data, midx):\n",
    "    subidxs = []\n",
    "    \n",
    "    for i in range(len(midx) - 1):\n",
    "        s = [(midx[i] + 1), (midx[i + 1] - 1)]\n",
    "        subidxs.append(s)\n",
    "    \n",
    "    subidxs.append([(midx[-1] + 1), len(all_categories) - 1])\n",
    "    \n",
    "    return subidxs"
   ]
  },
  {
   "cell_type": "code",
   "execution_count": 16,
   "metadata": {},
   "outputs": [],
   "source": [
    "subidxs = compute_sub_indicies(data=all_categories, midx=midx)"
   ]
  },
  {
   "cell_type": "code",
   "execution_count": 17,
   "metadata": {},
   "outputs": [
    {
     "name": "stdout",
     "output_type": "stream",
     "text": [
      "[[1, 105], [107, 183], [185, 201], [203, 579], [581, 623], [625, 777], [779, 931], [933, 943], [945, 1239], [1241, 1328]]\n"
     ]
    }
   ],
   "source": [
    "print(subidxs)"
   ]
  },
  {
   "cell_type": "code",
   "execution_count": 18,
   "metadata": {},
   "outputs": [
    {
     "data": {
      "text/plain": [
       "10"
      ]
     },
     "execution_count": 18,
     "metadata": {},
     "output_type": "execute_result"
    }
   ],
   "source": [
    "len(subidxs)"
   ]
  },
  {
   "cell_type": "code",
   "execution_count": 19,
   "metadata": {},
   "outputs": [],
   "source": [
    "def extract_keys_values(mckv, sckv, midx, subidxs, sub_indicies):\n",
    "    ckv = []\n",
    "    \n",
    "    mck = list(mckv.keys())\n",
    "    mcv = list(mckv.values())\n",
    "    mckvi = list(zip(midx, mck, mcv))\n",
    "    \n",
    "    sck = list(sckv.keys())\n",
    "    scv = list(sckv.values())\n",
    "    sckvi = list(zip(sub_indicies, sck, scv))\n",
    "    \n",
    "    for i in range(len(midx)):\n",
    "        mi, mk, mv = mckvi[i]\n",
    "        \n",
    "        sub_categories = {}\n",
    "        for (sj, sk, sv) in sckvi:\n",
    "            if sj in range(subidxs[i][0], subidxs[i][1]):\n",
    "                sub_categories[sk] = sv\n",
    "        \n",
    "        vt = {\n",
    "            'main_category' : {mk : mv},\n",
    "            'sub_categories' : sub_categories\n",
    "        }\n",
    "        ckv.append(vt)\n",
    "    \n",
    "    return ckv"
   ]
  },
  {
   "cell_type": "code",
   "execution_count": 20,
   "metadata": {},
   "outputs": [],
   "source": [
    "extracted_categories = extract_keys_values(\n",
    "    mckv=mckv, \n",
    "    sckv=sckv, \n",
    "    midx=midx, \n",
    "    subidxs=subidxs, \n",
    "    sub_indicies=sub_indicies\n",
    ")"
   ]
  },
  {
   "cell_type": "code",
   "execution_count": 21,
   "metadata": {},
   "outputs": [],
   "source": [
    "formatted_categories = {\n",
    "    'foursquare_venues' : extracted_categories\n",
    "}"
   ]
  },
  {
   "cell_type": "code",
   "execution_count": 22,
   "metadata": {},
   "outputs": [],
   "source": [
    "with open(file='foursquare_venue_categories.json', mode='w') as ec:\n",
    "    json.dump(obj=formatted_categories, fp=ec, ensure_ascii=False, indent=2)"
   ]
  }
 ],
 "metadata": {
  "kernelspec": {
   "display_name": "Python 3",
   "language": "python",
   "name": "python3"
  },
  "language_info": {
   "codemirror_mode": {
    "name": "ipython",
    "version": 3
   },
   "file_extension": ".py",
   "mimetype": "text/x-python",
   "name": "python",
   "nbconvert_exporter": "python",
   "pygments_lexer": "ipython3",
   "version": "3.8.4"
  },
  "varInspector": {
   "cols": {
    "lenName": 16,
    "lenType": 16,
    "lenVar": 40
   },
   "kernels_config": {
    "python": {
     "delete_cmd_postfix": "",
     "delete_cmd_prefix": "del ",
     "library": "var_list.py",
     "varRefreshCmd": "print(var_dic_list())"
    },
    "r": {
     "delete_cmd_postfix": ") ",
     "delete_cmd_prefix": "rm(",
     "library": "var_list.r",
     "varRefreshCmd": "cat(var_dic_list()) "
    }
   },
   "types_to_exclude": [
    "module",
    "function",
    "builtin_function_or_method",
    "instance",
    "_Feature"
   ],
   "window_display": false
  }
 },
 "nbformat": 4,
 "nbformat_minor": 4
}
